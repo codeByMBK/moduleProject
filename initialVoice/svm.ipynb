{
 "cells": [
  {
   "cell_type": "markdown",
   "id": "a552fbad-f1ae-4670-bc14-f3c4e6a65284",
   "metadata": {},
   "source": [
    "# Data analysis"
   ]
  },
  {
   "cell_type": "code",
   "execution_count": 2,
   "id": "a8a5653f-5f27-428b-841e-fa8c47248b99",
   "metadata": {},
   "outputs": [],
   "source": [
    "import os\n",
    "import pandas as pd\n",
    "import librosa\n",
    "import librosa.display\n",
    "import numpy as np\n",
    "import matplotlib.pyplot as plt\n",
    "import seaborn as sns"
   ]
  },
  {
   "cell_type": "code",
   "execution_count": 3,
   "id": "6bdfe1a6-228d-4012-8887-8c674a41f52f",
   "metadata": {},
   "outputs": [
    {
     "name": "stdout",
     "output_type": "stream",
     "text": [
      "Emotion\n",
      "2    192\n",
      "3    192\n",
      "4    192\n",
      "5    192\n",
      "6    192\n",
      "7    192\n",
      "8    192\n",
      "1     96\n",
      "Name: count, dtype: int64\n",
      "Gender\n",
      "Male      720\n",
      "Female    720\n",
      "Name: count, dtype: int64\n",
      "1\n"
     ]
    }
   ],
   "source": [
    "# 设置数据集路径\n",
    "dataset_path = \"RAVDESS Emotional speech audio\"\n",
    "\n",
    "# 获取所有音频文件\n",
    "files = []#[f for f in os.listdir(dataset_path) if f.endswith(\".wav\")]\n",
    "for root, dirs, filenames in os.walk(dataset_path):\n",
    "    for filename in filenames:\n",
    "        if filename.endswith(\".wav\"):\n",
    "            files.append(os.path.join(root, filename))  # 保存完整路径\n",
    "\n",
    "# 解析文件名，提取信息\n",
    "data = []\n",
    "for file in files:\n",
    "    parts = file.split(\"-\")\n",
    "    # print(parts)\n",
    "    emotion = int(parts[2])  # 提取情感类别\n",
    "    intensity = int(parts[3])  # 提取强度（01-正常, 02-高强度）\n",
    "    gender = \"Male\" if int(parts[6].split('.')[0]) % 2 == 1 else \"Female\"  # 根据说话者 ID 判断性别\n",
    "    data.append([file, emotion, intensity, gender])\n",
    "\n",
    "# 转换为 DataFrame\n",
    "df = pd.DataFrame(data, columns=[\"Filename\", \"Emotion\", \"Intensity\", \"Gender\"])\n",
    "\n",
    "# 统计数据分布\n",
    "print(df[\"Emotion\"].value_counts())  # 统计每种情感的数量\n",
    "print(df[\"Gender\"].value_counts())   # 统计性别分布\n",
    "print('1')"
   ]
  },
  {
   "cell_type": "code",
   "execution_count": 4,
   "id": "333387e1-7331-425f-a4a0-ae14da4d0a22",
   "metadata": {},
   "outputs": [
    {
     "data": {
      "text/html": [
       "<div>\n",
       "<style scoped>\n",
       "    .dataframe tbody tr th:only-of-type {\n",
       "        vertical-align: middle;\n",
       "    }\n",
       "\n",
       "    .dataframe tbody tr th {\n",
       "        vertical-align: top;\n",
       "    }\n",
       "\n",
       "    .dataframe thead th {\n",
       "        text-align: right;\n",
       "    }\n",
       "</style>\n",
       "<table border=\"1\" class=\"dataframe\">\n",
       "  <thead>\n",
       "    <tr style=\"text-align: right;\">\n",
       "      <th></th>\n",
       "      <th>Filename</th>\n",
       "      <th>Emotion</th>\n",
       "      <th>Intensity</th>\n",
       "      <th>Gender</th>\n",
       "    </tr>\n",
       "  </thead>\n",
       "  <tbody>\n",
       "    <tr>\n",
       "      <th>0</th>\n",
       "      <td>RAVDESS Emotional speech audio\\Actor_01\\03-01-...</td>\n",
       "      <td>1</td>\n",
       "      <td>1</td>\n",
       "      <td>Male</td>\n",
       "    </tr>\n",
       "    <tr>\n",
       "      <th>1</th>\n",
       "      <td>RAVDESS Emotional speech audio\\Actor_01\\03-01-...</td>\n",
       "      <td>1</td>\n",
       "      <td>1</td>\n",
       "      <td>Male</td>\n",
       "    </tr>\n",
       "    <tr>\n",
       "      <th>2</th>\n",
       "      <td>RAVDESS Emotional speech audio\\Actor_01\\03-01-...</td>\n",
       "      <td>1</td>\n",
       "      <td>1</td>\n",
       "      <td>Male</td>\n",
       "    </tr>\n",
       "    <tr>\n",
       "      <th>3</th>\n",
       "      <td>RAVDESS Emotional speech audio\\Actor_01\\03-01-...</td>\n",
       "      <td>1</td>\n",
       "      <td>1</td>\n",
       "      <td>Male</td>\n",
       "    </tr>\n",
       "    <tr>\n",
       "      <th>4</th>\n",
       "      <td>RAVDESS Emotional speech audio\\Actor_01\\03-01-...</td>\n",
       "      <td>2</td>\n",
       "      <td>1</td>\n",
       "      <td>Male</td>\n",
       "    </tr>\n",
       "    <tr>\n",
       "      <th>...</th>\n",
       "      <td>...</td>\n",
       "      <td>...</td>\n",
       "      <td>...</td>\n",
       "      <td>...</td>\n",
       "    </tr>\n",
       "    <tr>\n",
       "      <th>1435</th>\n",
       "      <td>RAVDESS Emotional speech audio\\Actor_24\\03-01-...</td>\n",
       "      <td>8</td>\n",
       "      <td>1</td>\n",
       "      <td>Female</td>\n",
       "    </tr>\n",
       "    <tr>\n",
       "      <th>1436</th>\n",
       "      <td>RAVDESS Emotional speech audio\\Actor_24\\03-01-...</td>\n",
       "      <td>8</td>\n",
       "      <td>2</td>\n",
       "      <td>Female</td>\n",
       "    </tr>\n",
       "    <tr>\n",
       "      <th>1437</th>\n",
       "      <td>RAVDESS Emotional speech audio\\Actor_24\\03-01-...</td>\n",
       "      <td>8</td>\n",
       "      <td>2</td>\n",
       "      <td>Female</td>\n",
       "    </tr>\n",
       "    <tr>\n",
       "      <th>1438</th>\n",
       "      <td>RAVDESS Emotional speech audio\\Actor_24\\03-01-...</td>\n",
       "      <td>8</td>\n",
       "      <td>2</td>\n",
       "      <td>Female</td>\n",
       "    </tr>\n",
       "    <tr>\n",
       "      <th>1439</th>\n",
       "      <td>RAVDESS Emotional speech audio\\Actor_24\\03-01-...</td>\n",
       "      <td>8</td>\n",
       "      <td>2</td>\n",
       "      <td>Female</td>\n",
       "    </tr>\n",
       "  </tbody>\n",
       "</table>\n",
       "<p>1440 rows × 4 columns</p>\n",
       "</div>"
      ],
      "text/plain": [
       "                                               Filename  Emotion  Intensity  \\\n",
       "0     RAVDESS Emotional speech audio\\Actor_01\\03-01-...        1          1   \n",
       "1     RAVDESS Emotional speech audio\\Actor_01\\03-01-...        1          1   \n",
       "2     RAVDESS Emotional speech audio\\Actor_01\\03-01-...        1          1   \n",
       "3     RAVDESS Emotional speech audio\\Actor_01\\03-01-...        1          1   \n",
       "4     RAVDESS Emotional speech audio\\Actor_01\\03-01-...        2          1   \n",
       "...                                                 ...      ...        ...   \n",
       "1435  RAVDESS Emotional speech audio\\Actor_24\\03-01-...        8          1   \n",
       "1436  RAVDESS Emotional speech audio\\Actor_24\\03-01-...        8          2   \n",
       "1437  RAVDESS Emotional speech audio\\Actor_24\\03-01-...        8          2   \n",
       "1438  RAVDESS Emotional speech audio\\Actor_24\\03-01-...        8          2   \n",
       "1439  RAVDESS Emotional speech audio\\Actor_24\\03-01-...        8          2   \n",
       "\n",
       "      Gender  \n",
       "0       Male  \n",
       "1       Male  \n",
       "2       Male  \n",
       "3       Male  \n",
       "4       Male  \n",
       "...      ...  \n",
       "1435  Female  \n",
       "1436  Female  \n",
       "1437  Female  \n",
       "1438  Female  \n",
       "1439  Female  \n",
       "\n",
       "[1440 rows x 4 columns]"
      ]
     },
     "execution_count": 4,
     "metadata": {},
     "output_type": "execute_result"
    }
   ],
   "source": [
    "df"
   ]
  },
  {
   "cell_type": "code",
   "execution_count": 5,
   "id": "0d8849df-27e4-4ed5-a487-4eeac2ad3cac",
   "metadata": {},
   "outputs": [
    {
     "data": {
      "image/png": "[encoded data removed]",
      "text/plain": [
       "<Figure size 800x600 with 1 Axes>"
      ]
     },
     "metadata": {},
     "output_type": "display_data"
    }
   ],
   "source": [
    "\n",
    "\n",
    "plt.figure(figsize=(8, 6))\n",
    "sns.countplot(x=\"Emotion\", hue=\"Gender\", data=df, palette=\"coolwarm\")\n",
    "plt.title(\"Emotion Distribution in RAVDESS\")\n",
    "plt.xlabel(\"Emotion\")\n",
    "plt.ylabel(\"Count\")\n",
    "plt.show()"
   ]
  },
  {
   "cell_type": "markdown",
   "id": "e5d3d6be-7f36-4812-ad9d-629a9e45db54",
   "metadata": {},
   "source": [
    "# Speech feature extraction"
   ]
  },
  {
   "cell_type": "code",
   "execution_count": 6,
   "id": "13ff3577-636f-4ea1-9a05-b47e94777a0a",
   "metadata": {},
   "outputs": [],
   "source": [
    "def extract_mfcc(audio_file):\n",
    "    y, sr = librosa.load(audio_file, sr=None)\n",
    "    mfcc = librosa.feature.mfcc(y=y, sr=sr, n_mfcc=13)\n",
    "    mfcc = np.mean(mfcc, axis=1)  # 对每帧特征取均值\n",
    "    return mfcc"
   ]
  },
  {
   "cell_type": "code",
   "execution_count": 7,
   "id": "46212c01-6f48-431f-b54b-4a338c43d38d",
   "metadata": {},
   "outputs": [],
   "source": [
    "import librosa.display\n",
    "import matplotlib.pyplot as plt\n",
    "\n",
    "# 提取Mel Spectrogram\n",
    "def extract_melspectrogram(file_path, sr=16000):\n",
    "    y, sr = librosa.load(file_path, sr=sr)\n",
    "    mel_spec = librosa.feature.melspectrogram(y=y, sr=sr)\n",
    "    mel_spec_db = librosa.power_to_db(mel_spec, ref=np.max)\n",
    "    return np.mean(mel_spec_db, axis=1)\n",
    "\n",
    "# 提取其他音频特征\n",
    "def extract_zero_crossing_rate(file_path, sr=16000):\n",
    "    y, sr = librosa.load(file_path, sr=sr)\n",
    "    zcr = librosa.feature.zero_crossing_rate(y)\n",
    "    return np.mean(zcr, axis=1)"
   ]
  },
  {
   "cell_type": "code",
   "execution_count": 8,
   "id": "b80eefaf-92e1-48f9-8881-1580f81eff18",
   "metadata": {},
   "outputs": [
    {
     "name": "stdout",
     "output_type": "stream",
     "text": [
      "            0          1         2          3         4          5         6  \\\n",
      "0 -726.217224  68.541420  3.293398  12.205300  5.510278  13.667408 -2.983829   \n",
      "1 -719.128296  70.201569  1.168397  13.122543  7.836950  14.411290 -4.111360   \n",
      "2 -714.995728  69.689346  3.924564  11.924190  6.421723  11.011614 -2.878103   \n",
      "3 -710.975281  67.564880  5.782241  13.230727  6.190846  12.628252 -1.675170   \n",
      "4 -759.921753  75.783524  6.023605  14.557394  6.454188  14.631508 -3.004551   \n",
      "\n",
      "          7         8         9  ...        133        134        135  \\\n",
      "0  3.098029 -3.310813 -1.564384  ... -70.021904 -70.534943 -70.842972   \n",
      "1  4.468973 -3.539367 -3.658607  ... -70.528221 -70.722054 -71.297203   \n",
      "2  4.509558 -4.476109 -2.671550  ... -71.734444 -72.157852 -72.784225   \n",
      "3  5.657494 -4.950634 -3.477545  ... -72.009544 -72.612411 -72.917633   \n",
      "4  4.620970 -5.200016 -0.707430  ... -71.322784 -71.591965 -71.400848   \n",
      "\n",
      "         136        137        138        139        140       141  Emotion  \n",
      "0 -70.977310 -71.064781 -71.367744 -73.715591 -77.534943  0.388470        1  \n",
      "1 -71.255547 -71.209312 -71.482559 -73.803810 -77.608902  0.393392        1  \n",
      "2 -72.776413 -72.470299 -72.526619 -74.556259 -77.962730  0.411479        1  \n",
      "3 -72.554543 -72.337517 -72.396400 -73.592293 -77.174706  0.400679        1  \n",
      "4 -71.998650 -71.831451 -71.947922 -73.780930 -77.211327  0.376575        2  \n",
      "\n",
      "[5 rows x 143 columns]\n",
      "111\n"
     ]
    }
   ],
   "source": [
    "mfcc_features = []\n",
    "\n",
    "# 处理所有音频文件并提取 MFCC 特征\n",
    "mfcc_features = []\n",
    "for file in files:\n",
    "    mfcc = extract_mfcc(file)  # file 已经是完整的路径\n",
    "    mel_spec = extract_melspectrogram(file)\n",
    "    zcr = extract_zero_crossing_rate(file)\n",
    "    \n",
    "    feature_vector = np.concatenate((mfcc, mel_spec, zcr))\n",
    "    mfcc_features.append(feature_vector)\n",
    "\n",
    "# 转换为 DataFrame\n",
    "mfcc_df = pd.DataFrame(mfcc_features)\n",
    "\n",
    "# 假设情感标签与音频文件的顺序一致，或者你需要通过文件名或其他方式映射标签\n",
    "mfcc_df[\"Emotion\"] = df[\"Emotion\"]  # 你可以根据实际的标签存储方式调整\n",
    "\n",
    "# 打印提取的特征\n",
    "print(mfcc_df.head())  # 查看前几行特征\n",
    "print('111')"
   ]
  },
  {
   "cell_type": "markdown",
   "id": "a4bf28bb-785b-4cab-8ab9-9798141efb08",
   "metadata": {},
   "source": [
    "### Accuracy: 0.5648148148148148 version"
   ]
  },
  {
   "cell_type": "code",
   "execution_count": 86,
   "id": "c4465f96-7b06-4c89-b753-6c036653fb8a",
   "metadata": {},
   "outputs": [],
   "source": [
    "X = []\n",
    "y = []\n",
    "X =  mfcc_df.drop(columns=[\"Emotion\"])\n",
    "y=mfcc_df.Emotion\n",
    "X = np.array(X)\n",
    "y = np.array(y)\n",
    "\n"
   ]
  },
  {
   "cell_type": "markdown",
   "id": "76a9e3a6-0237-4035-aa9f-5723c8bf393d",
   "metadata": {},
   "source": [
    "###  Accuracy: 0.5555555555555556 version"
   ]
  },
  {
   "cell_type": "code",
   "execution_count": 124,
   "id": "9f5c729c-6179-4aee-b76d-01fbe9b553d5",
   "metadata": {},
   "outputs": [],
   "source": [
    "import librosa\n",
    "import numpy as np\n",
    "\n",
    "# # 添加背景噪声\n",
    "# def add_noise(data, noise_level=0.005):\n",
    "#     noise = np.random.randn(len(data))\n",
    "#     return data + noise_level * noise\n",
    "\n",
    "# # 改变音高\n",
    "# def change_pitch(y, sr, pitch_factor=2.0):\n",
    "#     return librosa.effects.pitch_shift(y=y, sr=sr, n_steps=pitch_factor)\n",
    "\n",
    "# # 改变播放速度\n",
    "# def change_speed(y, speed_factor=1.1):\n",
    "#     return librosa.effects.time_stretch(y, rate=speed_factor)\n",
    "\n",
    "# # 随机裁剪音频\n",
    "# def random_crop(y, crop_percent=0.9):\n",
    "#     crop_length = int(len(y) * crop_percent)\n",
    "#     start = np.random.randint(0, len(y) - crop_length)\n",
    "#     return y[start:start+crop_length]\n",
    "    \n",
    "# def extract_features_with_augmentation(audio_file):\n",
    "#     y, sr = librosa.load(audio_file, sr=None)\n",
    "#     features = []\n",
    "\n",
    "#     # 定义一个内部函数以减少重复代码\n",
    "#     def extract_all_features(y):\n",
    "#         stft = np.abs(librosa.stft(y))\n",
    "#         mfccs = np.mean(librosa.feature.mfcc(y=y, sr=sr, n_mfcc=40).T, axis=1)\n",
    "#         chroma = np.mean(librosa.feature.chroma_stft(S=stft, sr=sr).T, axis=1)\n",
    "#         mel = np.mean(librosa.feature.melspectrogram(y=y, sr=sr).T, axis=1)\n",
    "#         contrast = np.mean(librosa.feature.spectral_contrast(S=stft, sr=sr).T, axis=1)\n",
    "#         tonnetz = np.mean(librosa.feature.tonnetz(y=librosa.effects.harmonic(y), sr=sr).T, axis=1)\n",
    "#         zcr = np.mean(librosa.feature.zero_crossing_rate(y).T, axis=0)\n",
    "#         rolloff = np.mean(librosa.feature.spectral_rolloff(y=y, sr=sr).T, axis=0)\n",
    "#         rmse = np.mean(librosa.feature.rms(y=y).T, axis=0)\n",
    "\n",
    "#         return np.hstack([mfccs, chroma, mel, contrast, tonnetz, zcr, rolloff, rmse])\n",
    "#         # return np.hstack([mfccs, chroma, mel, contrast, tonnetz])\n",
    "\n",
    "#     # 原始音频特征\n",
    "#     features.append(extract_all_features(y))\n",
    "\n",
    "#     # 添加不同增强数据的特征\n",
    "#     y_noise = add_noise(y)\n",
    "#     features.append(extract_all_features(y_noise))\n",
    "\n",
    "#     y_pitch = change_pitch(y, sr, pitch_factor=2.0)\n",
    "#     features.append(extract_all_features(y_pitch))\n",
    "\n",
    "#     y_speed = change_speed(y, speed_factor=1.1)\n",
    "#     features.append(extract_all_features(y_speed))\n",
    "\n",
    "#     y_crop = random_crop(y)\n",
    "#     features.append(extract_all_features(y_crop))\n",
    "\n",
    "#     return features\n",
    "\n",
    "\n",
    "def extract_features(audio_file):\n",
    "    y, sr = librosa.load(audio_file, sr=None)\n",
    "    \n",
    "    # 1. MFCC 特征\n",
    "    mfcc = librosa.feature.mfcc(y=y, sr=sr, n_mfcc=13)\n",
    "    mfcc_mean = np.mean(mfcc, axis=1)\n",
    "    \n",
    "    # 2. Chroma 特征\n",
    "    stft = np.abs(librosa.stft(y))\n",
    "    chroma = librosa.feature.chroma_stft(S=stft, sr=sr)\n",
    "    chroma_mean = np.mean(chroma, axis=1)\n",
    "    \n",
    "    # 3. Mel-spectrogram 特征\n",
    "    mel = librosa.feature.melspectrogram(y=y, sr=sr)\n",
    "    mel_mean = np.mean(mel, axis=1)\n",
    "    \n",
    "    # 4. Spectral Contrast 特征\n",
    "    contrast = librosa.feature.spectral_contrast(S=stft, sr=sr)\n",
    "    contrast_mean = np.mean(contrast, axis=1)\n",
    "    \n",
    "    # 将所有特征拼接为一个一维向量\n",
    "    # features = np.hstack([mfcc_mean, chroma_mean, mel_mean, contrast_mean])\n",
    "    \n",
    "    # 增强特征：逐步添加\n",
    "    tonnetz_mean = np.mean(librosa.feature.tonnetz(y=librosa.effects.harmonic(y), sr=sr), axis=1)\n",
    "    zcr_mean = np.mean(librosa.feature.zero_crossing_rate(y), axis=1)\n",
    "    rolloff_mean = np.mean(librosa.feature.spectral_rolloff(y=y, sr=sr), axis=1)\n",
    "    rmse_mean = np.mean(librosa.feature.rms(y=y), axis=1)\n",
    "    \n",
    "    # 拼接所有特征\n",
    "    features = np.hstack([mfcc_mean, chroma_mean, mel_mean, contrast_mean, tonnetz_mean, zcr_mean, rolloff_mean, rmse_mean])\n",
    "    \n",
    "    return features"
   ]
  },
  {
   "cell_type": "code",
   "execution_count": null,
   "id": "8f97bf4d-27c3-425a-82d1-b9260b6defdc",
   "metadata": {},
   "outputs": [],
   "source": [
    "mfcc_features = mfcc_df.drop(columns=[\"Emotion\"])\n",
    "emotions = mfcc_df[\"Emotion\"]\n",
    "\n",
    "X = []\n",
    "y = []\n",
    "\n",
    "for idx, row in df.iterrows():\n",
    "    features = extract_features(row[\"Filename\"])  # 包含 MFCC + 新特征\n",
    "    X.append(features)\n",
    "    y.append(row[\"Emotion\"])\n",
    "\n",
    "\n",
    "X = np.array(X)\n",
    "y = np.array(y)\n",
    "# X = []\n",
    "# y_labels = []\n",
    "\n",
    "# for index, row in df.iterrows():\n",
    "#     augmented_features = extract_features_with_augmentation(row[\"Filename\"])\n",
    "#     for feature_set in augmented_features:\n",
    "#         X.append(feature_set)\n",
    "#         y_labels.append(row[\"Emotion\"])\n",
    "\n",
    "# # X = np.array(X)\n",
    "# y = np.array(y_labels)\n",
    "\n"
   ]
  },
  {
   "cell_type": "code",
   "execution_count": 120,
   "id": "1efe8d80-ab47-4fa0-bf1e-762ab3c56664",
   "metadata": {},
   "outputs": [],
   "source": [
    "from sklearn.preprocessing import StandardScaler\n",
    "scaler = StandardScaler()\n",
    "X = scaler.fit_transform(X)\n",
    "from sklearn.decomposition import PCA\n",
    "pca = PCA(n_components=0.95)  # 保留95%的方差信息\n",
    "X = pca.fit_transform(X)"
   ]
  },
  {
   "cell_type": "code",
   "execution_count": 121,
   "id": "c8e365b4-2dab-4f3a-9b5b-aef3ab923d22",
   "metadata": {},
   "outputs": [
    {
     "ename": "ValueError",
     "evalue": "Found input variables with inconsistent numbers of samples: [7200, 1440]",
     "output_type": "error",
     "traceback": [
      "\u001b[1;31m---------------------------------------------------------------------------\u001b[0m",
      "\u001b[1;31mValueError\u001b[0m                                Traceback (most recent call last)",
      "Cell \u001b[1;32mIn[121], line 12\u001b[0m\n\u001b[0;32m      9\u001b[0m y_encoded \u001b[38;5;241m=\u001b[39m le\u001b[38;5;241m.\u001b[39mfit_transform(y)\n\u001b[0;32m     11\u001b[0m \u001b[38;5;66;03m# 数据划分\u001b[39;00m\n\u001b[1;32m---> 12\u001b[0m X_train, X_test, y_train, y_test \u001b[38;5;241m=\u001b[39m \u001b[43mtrain_test_split\u001b[49m\u001b[43m(\u001b[49m\u001b[43mX\u001b[49m\u001b[43m,\u001b[49m\u001b[43m \u001b[49m\u001b[43my_encoded\u001b[49m\u001b[43m,\u001b[49m\u001b[43m \u001b[49m\u001b[43mtest_size\u001b[49m\u001b[38;5;241;43m=\u001b[39;49m\u001b[38;5;241;43m0.2\u001b[39;49m\u001b[43m,\u001b[49m\u001b[43m \u001b[49m\u001b[43mrandom_state\u001b[49m\u001b[38;5;241;43m=\u001b[39;49m\u001b[38;5;241;43m42\u001b[39;49m\u001b[43m)\u001b[49m\n\u001b[0;32m     14\u001b[0m \u001b[38;5;66;03m# DNN 模型\u001b[39;00m\n\u001b[0;32m     15\u001b[0m model \u001b[38;5;241m=\u001b[39m Sequential([\n\u001b[0;32m     16\u001b[0m     Dense(\u001b[38;5;241m256\u001b[39m, activation\u001b[38;5;241m=\u001b[39m\u001b[38;5;124m'\u001b[39m\u001b[38;5;124mrelu\u001b[39m\u001b[38;5;124m'\u001b[39m, input_shape\u001b[38;5;241m=\u001b[39m(X_train\u001b[38;5;241m.\u001b[39mshape[\u001b[38;5;241m1\u001b[39m],)),\n\u001b[0;32m     17\u001b[0m     Dropout(\u001b[38;5;241m0.3\u001b[39m),\n\u001b[1;32m   (...)\u001b[0m\n\u001b[0;32m     22\u001b[0m     Dense(\u001b[38;5;28mlen\u001b[39m(np\u001b[38;5;241m.\u001b[39munique(y_encoded)), activation\u001b[38;5;241m=\u001b[39m\u001b[38;5;124m'\u001b[39m\u001b[38;5;124msoftmax\u001b[39m\u001b[38;5;124m'\u001b[39m)\n\u001b[0;32m     23\u001b[0m ])\n",
      "File \u001b[1;32m~\\.conda\\envs\\dmml\\lib\\site-packages\\sklearn\\utils\\_param_validation.py:211\u001b[0m, in \u001b[0;36mvalidate_params.<locals>.decorator.<locals>.wrapper\u001b[1;34m(*args, **kwargs)\u001b[0m\n\u001b[0;32m    205\u001b[0m \u001b[38;5;28;01mtry\u001b[39;00m:\n\u001b[0;32m    206\u001b[0m     \u001b[38;5;28;01mwith\u001b[39;00m config_context(\n\u001b[0;32m    207\u001b[0m         skip_parameter_validation\u001b[38;5;241m=\u001b[39m(\n\u001b[0;32m    208\u001b[0m             prefer_skip_nested_validation \u001b[38;5;129;01mor\u001b[39;00m global_skip_validation\n\u001b[0;32m    209\u001b[0m         )\n\u001b[0;32m    210\u001b[0m     ):\n\u001b[1;32m--> 211\u001b[0m         \u001b[38;5;28;01mreturn\u001b[39;00m \u001b[43mfunc\u001b[49m\u001b[43m(\u001b[49m\u001b[38;5;241;43m*\u001b[39;49m\u001b[43margs\u001b[49m\u001b[43m,\u001b[49m\u001b[43m \u001b[49m\u001b[38;5;241;43m*\u001b[39;49m\u001b[38;5;241;43m*\u001b[39;49m\u001b[43mkwargs\u001b[49m\u001b[43m)\u001b[49m\n\u001b[0;32m    212\u001b[0m \u001b[38;5;28;01mexcept\u001b[39;00m InvalidParameterError \u001b[38;5;28;01mas\u001b[39;00m e:\n\u001b[0;32m    213\u001b[0m     \u001b[38;5;66;03m# When the function is just a wrapper around an estimator, we allow\u001b[39;00m\n\u001b[0;32m    214\u001b[0m     \u001b[38;5;66;03m# the function to delegate validation to the estimator, but we replace\u001b[39;00m\n\u001b[0;32m    215\u001b[0m     \u001b[38;5;66;03m# the name of the estimator by the name of the function in the error\u001b[39;00m\n\u001b[0;32m    216\u001b[0m     \u001b[38;5;66;03m# message to avoid confusion.\u001b[39;00m\n\u001b[0;32m    217\u001b[0m     msg \u001b[38;5;241m=\u001b[39m re\u001b[38;5;241m.\u001b[39msub(\n\u001b[0;32m    218\u001b[0m         \u001b[38;5;124mr\u001b[39m\u001b[38;5;124m\"\u001b[39m\u001b[38;5;124mparameter of \u001b[39m\u001b[38;5;124m\\\u001b[39m\u001b[38;5;124mw+ must be\u001b[39m\u001b[38;5;124m\"\u001b[39m,\n\u001b[0;32m    219\u001b[0m         \u001b[38;5;124mf\u001b[39m\u001b[38;5;124m\"\u001b[39m\u001b[38;5;124mparameter of \u001b[39m\u001b[38;5;132;01m{\u001b[39;00mfunc\u001b[38;5;241m.\u001b[39m\u001b[38;5;18m__qualname__\u001b[39m\u001b[38;5;132;01m}\u001b[39;00m\u001b[38;5;124m must be\u001b[39m\u001b[38;5;124m\"\u001b[39m,\n\u001b[0;32m    220\u001b[0m         \u001b[38;5;28mstr\u001b[39m(e),\n\u001b[0;32m    221\u001b[0m     )\n",
      "File \u001b[1;32m~\\.conda\\envs\\dmml\\lib\\site-packages\\sklearn\\model_selection\\_split.py:2614\u001b[0m, in \u001b[0;36mtrain_test_split\u001b[1;34m(test_size, train_size, random_state, shuffle, stratify, *arrays)\u001b[0m\n\u001b[0;32m   2611\u001b[0m \u001b[38;5;28;01mif\u001b[39;00m n_arrays \u001b[38;5;241m==\u001b[39m \u001b[38;5;241m0\u001b[39m:\n\u001b[0;32m   2612\u001b[0m     \u001b[38;5;28;01mraise\u001b[39;00m \u001b[38;5;167;01mValueError\u001b[39;00m(\u001b[38;5;124m\"\u001b[39m\u001b[38;5;124mAt least one array required as input\u001b[39m\u001b[38;5;124m\"\u001b[39m)\n\u001b[1;32m-> 2614\u001b[0m arrays \u001b[38;5;241m=\u001b[39m \u001b[43mindexable\u001b[49m\u001b[43m(\u001b[49m\u001b[38;5;241;43m*\u001b[39;49m\u001b[43marrays\u001b[49m\u001b[43m)\u001b[49m\n\u001b[0;32m   2616\u001b[0m n_samples \u001b[38;5;241m=\u001b[39m _num_samples(arrays[\u001b[38;5;241m0\u001b[39m])\n\u001b[0;32m   2617\u001b[0m n_train, n_test \u001b[38;5;241m=\u001b[39m _validate_shuffle_split(\n\u001b[0;32m   2618\u001b[0m     n_samples, test_size, train_size, default_test_size\u001b[38;5;241m=\u001b[39m\u001b[38;5;241m0.25\u001b[39m\n\u001b[0;32m   2619\u001b[0m )\n",
      "File \u001b[1;32m~\\.conda\\envs\\dmml\\lib\\site-packages\\sklearn\\utils\\validation.py:455\u001b[0m, in \u001b[0;36mindexable\u001b[1;34m(*iterables)\u001b[0m\n\u001b[0;32m    436\u001b[0m \u001b[38;5;250m\u001b[39m\u001b[38;5;124;03m\"\"\"Make arrays indexable for cross-validation.\u001b[39;00m\n\u001b[0;32m    437\u001b[0m \n\u001b[0;32m    438\u001b[0m \u001b[38;5;124;03mChecks consistent length, passes through None, and ensures that everything\u001b[39;00m\n\u001b[1;32m   (...)\u001b[0m\n\u001b[0;32m    451\u001b[0m \u001b[38;5;124;03m    sparse matrix, or dataframe) or `None`.\u001b[39;00m\n\u001b[0;32m    452\u001b[0m \u001b[38;5;124;03m\"\"\"\u001b[39;00m\n\u001b[0;32m    454\u001b[0m result \u001b[38;5;241m=\u001b[39m [_make_indexable(X) \u001b[38;5;28;01mfor\u001b[39;00m X \u001b[38;5;129;01min\u001b[39;00m iterables]\n\u001b[1;32m--> 455\u001b[0m \u001b[43mcheck_consistent_length\u001b[49m\u001b[43m(\u001b[49m\u001b[38;5;241;43m*\u001b[39;49m\u001b[43mresult\u001b[49m\u001b[43m)\u001b[49m\n\u001b[0;32m    456\u001b[0m \u001b[38;5;28;01mreturn\u001b[39;00m result\n",
      "File \u001b[1;32m~\\.conda\\envs\\dmml\\lib\\site-packages\\sklearn\\utils\\validation.py:409\u001b[0m, in \u001b[0;36mcheck_consistent_length\u001b[1;34m(*arrays)\u001b[0m\n\u001b[0;32m    407\u001b[0m uniques \u001b[38;5;241m=\u001b[39m np\u001b[38;5;241m.\u001b[39munique(lengths)\n\u001b[0;32m    408\u001b[0m \u001b[38;5;28;01mif\u001b[39;00m \u001b[38;5;28mlen\u001b[39m(uniques) \u001b[38;5;241m>\u001b[39m \u001b[38;5;241m1\u001b[39m:\n\u001b[1;32m--> 409\u001b[0m     \u001b[38;5;28;01mraise\u001b[39;00m \u001b[38;5;167;01mValueError\u001b[39;00m(\n\u001b[0;32m    410\u001b[0m         \u001b[38;5;124m\"\u001b[39m\u001b[38;5;124mFound input variables with inconsistent numbers of samples: \u001b[39m\u001b[38;5;132;01m%r\u001b[39;00m\u001b[38;5;124m\"\u001b[39m\n\u001b[0;32m    411\u001b[0m         \u001b[38;5;241m%\u001b[39m [\u001b[38;5;28mint\u001b[39m(l) \u001b[38;5;28;01mfor\u001b[39;00m l \u001b[38;5;129;01min\u001b[39;00m lengths]\n\u001b[0;32m    412\u001b[0m     )\n",
      "\u001b[1;31mValueError\u001b[0m: Found input variables with inconsistent numbers of samples: [7200, 1440]"
     ]
    }
   ],
   "source": [
    "# 切分数据集\n",
    "from sklearn.model_selection import train_test_split\n",
    "from sklearn.preprocessing import LabelEncoder\n",
    "from keras.models import Sequential\n",
    "from keras.layers import Dense, Dropout\n",
    "\n",
    "# 标签编码\n",
    "le = LabelEncoder()\n",
    "y_encoded = le.fit_transform(y)\n",
    "\n",
    "# 数据划分\n",
    "X_train, X_test, y_train, y_test = train_test_split(X, y_encoded, test_size=0.2, random_state=42)\n",
    "\n",
    "# DNN 模型\n",
    "model = Sequential([\n",
    "    Dense(256, activation='relu', input_shape=(X_train.shape[1],)),\n",
    "    Dropout(0.3),\n",
    "    Dense(128, activation='relu'),\n",
    "    Dropout(0.3),\n",
    "    Dense(64, activation='relu'),\n",
    "    Dropout(0.3),\n",
    "    Dense(len(np.unique(y_encoded)), activation='softmax')\n",
    "])\n",
    "\n",
    "model.compile(loss='sparse_categorical_crossentropy', optimizer='adam', metrics=['accuracy'])\n",
    "model.fit(X_train, y_train, epochs=100, batch_size=32, validation_data=(X_test, y_test))\n"
   ]
  },
  {
   "cell_type": "code",
   "execution_count": null,
   "id": "ef9ade40-43ef-480f-aed0-25ebd79bc12d",
   "metadata": {},
   "outputs": [],
   "source": [
    "# 切分数据集\n",
    "X_train, X_test, y_train, y_test = train_test_split(X, df[\"Emotion\"], test_size=0.3, random_state=42)\n",
    "best_params = {'C': 100, 'degree': 2, 'gamma': 'auto', 'kernel': 'rbf'}\n",
    "# 初始化 SVM 模型\n",
    "model = SVC(**best_params)\n",
    "\n",
    "# 训练模型\n",
    "model.fit(X_train, y_train)\n",
    "\n",
    "# 预测并评估\n",
    "y_pred = model.predict(X_test)\n",
    "print(f\"Accuracy: {accuracy_score(y_test, y_pred)}\")\n"
   ]
  },
  {
   "cell_type": "code",
   "execution_count": 93,
   "id": "702fad83-2175-4c47-acfe-7b8a3f613eea",
   "metadata": {},
   "outputs": [
    {
     "name": "stdout",
     "output_type": "stream",
     "text": [
      "Best parameters: {'C': 100, 'degree': 2, 'gamma': 'auto', 'kernel': 'rbf'}\n",
      "Best cross-validation score: 0.49904930791586616\n"
     ]
    }
   ],
   "source": [
    "from sklearn.model_selection import GridSearchCV\n",
    "\n",
    "param_grid = {\n",
    "    'C': [0.1, 1, 10, 100],\n",
    "    'kernel': ['rbf','linear'],\n",
    "    'degree': [2, 3, 4],\n",
    "    'gamma': ['scale', 'auto']\n",
    "}\n",
    "\n",
    "grid_search = GridSearchCV(SVC(), param_grid, cv=5, n_jobs=-1)\n",
    "grid_search.fit(X_train, y_train)\n",
    "\n",
    "print(f\"Best parameters: {grid_search.best_params_}\")\n",
    "print(f\"Best cross-validation score: {grid_search.best_score_}\")"
   ]
  },
  {
   "cell_type": "markdown",
   "id": "462e97d2-efbb-4549-83bf-6c15659864f4",
   "metadata": {},
   "source": [
    "## 0.6203703703703703 version"
   ]
  },
  {
   "cell_type": "code",
   "execution_count": null,
   "id": "cdaff934-55d9-4dbc-aef8-fb117d696896",
   "metadata": {},
   "outputs": [
    {
     "name": "stdout",
     "output_type": "stream",
     "text": [
      "Accuracy: 0.6203703703703703\n"
     ]
    }
   ],
   "source": [
    "from sklearn.svm import SVC\n",
    "from sklearn.model_selection import train_test_split\n",
    "from sklearn.metrics import accuracy_score\n",
    "from sklearn.preprocessing import StandardScaler\n",
    "\n",
    "X=mfcc_df.drop(columns=[\"Emotion\"])\n",
    "y_train=mfcc_df[\"Emotion\"]\n",
    "scaler = StandardScaler()\n",
    "X_scaled = scaler.fit_transform(X)\n",
    "\n",
    "# split dataset\n",
    "X_train, X_test, y_train, y_test = train_test_split(X_scaled, mfcc_df[\"Emotion\"], test_size=0.3, random_state=42)\n",
    "best_params = {'C': 100, 'kernel': 'rbf'}\n",
    "# initiate SVM model\n",
    "model = SVC(**best_params)\n",
    "\n",
    "# train model\n",
    "model.fit(X_train, y_train)\n",
    "\n",
    "# predit\n",
    "y_pred = model.predict(X_test)\n",
    "print(f\"Accuracy: {accuracy_score(y_test, y_pred)}\")"
   ]
  },
  {
   "cell_type": "code",
   "execution_count": 12,
   "id": "17adf140-f43e-414e-a8e4-394986ffb144",
   "metadata": {},
   "outputs": [
    {
     "name": "stdout",
     "output_type": "stream",
     "text": [
      "Train Accuracy: 1.0\n"
     ]
    }
   ],
   "source": [
    "y_train_pred = model.predict(X_train)\n",
    "\n",
    "print(f\"Train Accuracy: {accuracy_score(y_train, y_train_pred)}\")"
   ]
  },
  {
   "cell_type": "code",
   "execution_count": null,
   "id": "cd16479b-29d3-4c53-89b3-78dcea329cee",
   "metadata": {},
   "outputs": [],
   "source": [
    "print('123')"
   ]
  },
  {
   "cell_type": "code",
   "execution_count": null,
   "id": "1f24ac6f-f4d2-4fcb-a819-8bc3d77435c5",
   "metadata": {},
   "outputs": [],
   "source": []
  }
 ],
 "metadata": {
  "kernelspec": {
   "display_name": "Python 3 (ipykernel)",
   "language": "python",
   "name": "python3"
  },
  "language_info": {
   "codemirror_mode": {
    "name": "ipython",
    "version": 3
   },
   "file_extension": ".py",
   "mimetype": "text/x-python",
   "name": "python",
   "nbconvert_exporter": "python",
   "pygments_lexer": "ipython3",
   "version": "3.8.12"
  }
 },
 "nbformat": 4,
 "nbformat_minor": 5
}
