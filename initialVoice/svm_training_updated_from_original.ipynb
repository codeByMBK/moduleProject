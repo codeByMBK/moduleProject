{
 "cells": [
  {
   "cell_type": "markdown",
   "id": "a552fbad-f1ae-4670-bc14-f3c4e6a65284",
   "metadata": {},
   "source": [
    "# Data analysis"
   ]
  },
  {
   "cell_type": "code",
   "execution_count": 1,
   "id": "a8a5653f-5f27-428b-841e-fa8c47248b99",
   "metadata": {},
   "outputs": [],
   "source": [
    "import os\n",
    "import pandas as pd\n",
    "import librosa\n",
    "import librosa.display\n",
    "import numpy as np\n",
    "import matplotlib.pyplot as plt\n",
    "import seaborn as sns"
   ]
  },
  {
   "cell_type": "code",
   "execution_count": 2,
   "id": "6bdfe1a6-228d-4012-8887-8c674a41f52f",
   "metadata": {},
   "outputs": [],
   "source": [
    "# 设置数据集路径\n",
    "dataset_path = \"RAVDESS Emotional speech audio\"\n",
    "\n",
    "# 获取所有音频文件\n",
    "files = []#[f for f in os.listdir(dataset_path) if f.endswith(\".wav\")]\n",
    "for root, dirs, filenames in os.walk(dataset_path):\n",
    "    for filename in filenames:\n",
    "        if filename.endswith(\".wav\"):\n",
    "            files.append(os.path.join(root, filename))  # 保存完整路径\n",
    "\n",
    "# 解析文件名，提取信息\n",
    "data = []\n",
    "for file in files:\n",
    "    parts = file.split(\"-\")\n",
    "    # print(parts)\n",
    "    emotion = int(parts[2])  # 提取情感类别\n",
    "    intensity = int(parts[3])  # 提取强度（01-正常, 02-高强度）\n",
    "    gender = \"Male\" if int(parts[6].split('.')[0]) % 2 == 1 else \"Female\"  # 根据说话者 ID 判断性别\n",
    "    data.append([file, emotion, intensity, gender])\n"
   ]
  },
  {
   "cell_type": "code",
   "execution_count": 3,
   "id": "ec5fe694-45fd-4f4e-94af-37260c75b5ef",
   "metadata": {},
   "outputs": [],
   "source": [
    "LABELS = {\n",
    "    \"01\": \"neutral\",\n",
    "    \"02\": \"neutral\",  # Merge \"calm\" into \"neutral\"\n",
    "    \"03\": \"happy\",\n",
    "    \"04\": \"sad\",\n",
    "    \"05\": \"angry\",\n",
    "    \"06\": \"fear\",\n",
    "    \"07\": \"disgust\",\n",
    "    \"08\": \"surprise\"\n",
    "}"
   ]
  },
  {
   "cell_type": "code",
   "execution_count": 4,
   "id": "ec9cfea3-a7d3-489a-b90b-67f698402118",
   "metadata": {},
   "outputs": [
    {
     "name": "stdout",
     "output_type": "stream",
     "text": [
      "Emotion\n",
      "2    192\n",
      "3    192\n",
      "4    192\n",
      "5    192\n",
      "6    192\n",
      "7    192\n",
      "8    192\n",
      "1     96\n",
      "Name: count, dtype: int64\n",
      "Gender\n",
      "Male      720\n",
      "Female    720\n",
      "Name: count, dtype: int64\n",
      "1\n"
     ]
    }
   ],
   "source": [
    "\n",
    "# 转换为 DataFrame\n",
    "df = pd.DataFrame(data, columns=[\"Filename\", \"Emotion\", \"Intensity\", \"Gender\"])\n",
    "\n",
    "# 统计数据分布\n",
    "print(df[\"Emotion\"].value_counts())  # 统计每种情感的数量\n",
    "print(df[\"Gender\"].value_counts())   # 统计性别分布\n",
    "print('1')"
   ]
  },
  {
   "cell_type": "code",
   "execution_count": 5,
   "id": "7cd8ce57-13d9-4261-b404-cb6746172e68",
   "metadata": {},
   "outputs": [],
   "source": [
    "df[\"Emotion\"] = df[\"Emotion\"].astype(str).str.zfill(2)  # Ensure two-digit format\n",
    "df[\"Emotion\"] = df[\"Emotion\"].map(LABELS)  # Apply mapping"
   ]
  },
  {
   "cell_type": "code",
   "execution_count": 6,
   "id": "26be72a6-dea7-4bbc-9749-fcd7a4cb0a3a",
   "metadata": {},
   "outputs": [
    {
     "name": "stdout",
     "output_type": "stream",
     "text": [
      "                                            Filename  Emotion  Intensity  \\\n",
      "0  RAVDESS Emotional speech audio\\Actor_01\\03-01-...  neutral          1   \n",
      "1  RAVDESS Emotional speech audio\\Actor_01\\03-01-...  neutral          1   \n",
      "2  RAVDESS Emotional speech audio\\Actor_01\\03-01-...  neutral          1   \n",
      "3  RAVDESS Emotional speech audio\\Actor_01\\03-01-...  neutral          1   \n",
      "4  RAVDESS Emotional speech audio\\Actor_01\\03-01-...  neutral          1   \n",
      "\n",
      "  Gender  \n",
      "0   Male  \n",
      "1   Male  \n",
      "2   Male  \n",
      "3   Male  \n",
      "4   Male  \n"
     ]
    }
   ],
   "source": [
    "print(df.head())"
   ]
  },
  {
   "cell_type": "code",
   "execution_count": 7,
   "id": "333387e1-7331-425f-a4a0-ae14da4d0a22",
   "metadata": {},
   "outputs": [
    {
     "data": {
      "text/html": [
       "<div>\n",
       "<style scoped>\n",
       "    .dataframe tbody tr th:only-of-type {\n",
       "        vertical-align: middle;\n",
       "    }\n",
       "\n",
       "    .dataframe tbody tr th {\n",
       "        vertical-align: top;\n",
       "    }\n",
       "\n",
       "    .dataframe thead th {\n",
       "        text-align: right;\n",
       "    }\n",
       "</style>\n",
       "<table border=\"1\" class=\"dataframe\">\n",
       "  <thead>\n",
       "    <tr style=\"text-align: right;\">\n",
       "      <th></th>\n",
       "      <th>Filename</th>\n",
       "      <th>Emotion</th>\n",
       "      <th>Intensity</th>\n",
       "      <th>Gender</th>\n",
       "    </tr>\n",
       "  </thead>\n",
       "  <tbody>\n",
       "    <tr>\n",
       "      <th>0</th>\n",
       "      <td>RAVDESS Emotional speech audio\\Actor_01\\03-01-...</td>\n",
       "      <td>neutral</td>\n",
       "      <td>1</td>\n",
       "      <td>Male</td>\n",
       "    </tr>\n",
       "    <tr>\n",
       "      <th>1</th>\n",
       "      <td>RAVDESS Emotional speech audio\\Actor_01\\03-01-...</td>\n",
       "      <td>neutral</td>\n",
       "      <td>1</td>\n",
       "      <td>Male</td>\n",
       "    </tr>\n",
       "    <tr>\n",
       "      <th>2</th>\n",
       "      <td>RAVDESS Emotional speech audio\\Actor_01\\03-01-...</td>\n",
       "      <td>neutral</td>\n",
       "      <td>1</td>\n",
       "      <td>Male</td>\n",
       "    </tr>\n",
       "    <tr>\n",
       "      <th>3</th>\n",
       "      <td>RAVDESS Emotional speech audio\\Actor_01\\03-01-...</td>\n",
       "      <td>neutral</td>\n",
       "      <td>1</td>\n",
       "      <td>Male</td>\n",
       "    </tr>\n",
       "    <tr>\n",
       "      <th>4</th>\n",
       "      <td>RAVDESS Emotional speech audio\\Actor_01\\03-01-...</td>\n",
       "      <td>neutral</td>\n",
       "      <td>1</td>\n",
       "      <td>Male</td>\n",
       "    </tr>\n",
       "    <tr>\n",
       "      <th>...</th>\n",
       "      <td>...</td>\n",
       "      <td>...</td>\n",
       "      <td>...</td>\n",
       "      <td>...</td>\n",
       "    </tr>\n",
       "    <tr>\n",
       "      <th>1435</th>\n",
       "      <td>RAVDESS Emotional speech audio\\Actor_24\\03-01-...</td>\n",
       "      <td>surprise</td>\n",
       "      <td>1</td>\n",
       "      <td>Female</td>\n",
       "    </tr>\n",
       "    <tr>\n",
       "      <th>1436</th>\n",
       "      <td>RAVDESS Emotional speech audio\\Actor_24\\03-01-...</td>\n",
       "      <td>surprise</td>\n",
       "      <td>2</td>\n",
       "      <td>Female</td>\n",
       "    </tr>\n",
       "    <tr>\n",
       "      <th>1437</th>\n",
       "      <td>RAVDESS Emotional speech audio\\Actor_24\\03-01-...</td>\n",
       "      <td>surprise</td>\n",
       "      <td>2</td>\n",
       "      <td>Female</td>\n",
       "    </tr>\n",
       "    <tr>\n",
       "      <th>1438</th>\n",
       "      <td>RAVDESS Emotional speech audio\\Actor_24\\03-01-...</td>\n",
       "      <td>surprise</td>\n",
       "      <td>2</td>\n",
       "      <td>Female</td>\n",
       "    </tr>\n",
       "    <tr>\n",
       "      <th>1439</th>\n",
       "      <td>RAVDESS Emotional speech audio\\Actor_24\\03-01-...</td>\n",
       "      <td>surprise</td>\n",
       "      <td>2</td>\n",
       "      <td>Female</td>\n",
       "    </tr>\n",
       "  </tbody>\n",
       "</table>\n",
       "<p>1440 rows × 4 columns</p>\n",
       "</div>"
      ],
      "text/plain": [
       "                                               Filename   Emotion  Intensity  \\\n",
       "0     RAVDESS Emotional speech audio\\Actor_01\\03-01-...   neutral          1   \n",
       "1     RAVDESS Emotional speech audio\\Actor_01\\03-01-...   neutral          1   \n",
       "2     RAVDESS Emotional speech audio\\Actor_01\\03-01-...   neutral          1   \n",
       "3     RAVDESS Emotional speech audio\\Actor_01\\03-01-...   neutral          1   \n",
       "4     RAVDESS Emotional speech audio\\Actor_01\\03-01-...   neutral          1   \n",
       "...                                                 ...       ...        ...   \n",
       "1435  RAVDESS Emotional speech audio\\Actor_24\\03-01-...  surprise          1   \n",
       "1436  RAVDESS Emotional speech audio\\Actor_24\\03-01-...  surprise          2   \n",
       "1437  RAVDESS Emotional speech audio\\Actor_24\\03-01-...  surprise          2   \n",
       "1438  RAVDESS Emotional speech audio\\Actor_24\\03-01-...  surprise          2   \n",
       "1439  RAVDESS Emotional speech audio\\Actor_24\\03-01-...  surprise          2   \n",
       "\n",
       "      Gender  \n",
       "0       Male  \n",
       "1       Male  \n",
       "2       Male  \n",
       "3       Male  \n",
       "4       Male  \n",
       "...      ...  \n",
       "1435  Female  \n",
       "1436  Female  \n",
       "1437  Female  \n",
       "1438  Female  \n",
       "1439  Female  \n",
       "\n",
       "[1440 rows x 4 columns]"
      ]
     },
     "execution_count": 7,
     "metadata": {},
     "output_type": "execute_result"
    }
   ],
   "source": [
    "df"
   ]
  },
  {
   "cell_type": "code",
   "execution_count": 8,
   "id": "0d8849df-27e4-4ed5-a487-4eeac2ad3cac",
   "metadata": {},
   "outputs": [
    {
     "data": {
      "image/png": "[encoded data removed]",
      "text/plain": [
       "<Figure size 800x600 with 1 Axes>"
      ]
     },
     "metadata": {},
     "output_type": "display_data"
    }
   ],
   "source": [
    "\n",
    "\n",
    "plt.figure(figsize=(8, 6))\n",
    "sns.countplot(x=\"Emotion\", hue=\"Gender\", data=df, palette=\"coolwarm\")\n",
    "plt.title(\"Emotion Distribution in RAVDESS\")\n",
    "plt.xlabel(\"Emotion\")\n",
    "plt.ylabel(\"Count\")\n",
    "plt.show()"
   ]
  },
  {
   "cell_type": "markdown",
   "id": "e5d3d6be-7f36-4812-ad9d-629a9e45db54",
   "metadata": {},
   "source": [
    "# Speech feature extraction"
   ]
  },
  {
   "cell_type": "code",
   "execution_count": 8,
   "id": "13ff3577-636f-4ea1-9a05-b47e94777a0a",
   "metadata": {},
   "outputs": [],
   "source": [
    "def extract_mfcc(audio_file):\n",
    "    y, sr = librosa.load(audio_file, sr=None)\n",
    "    mfcc = librosa.feature.mfcc(y=y, sr=sr, n_mfcc=13)\n",
    "    mfcc = np.mean(mfcc, axis=1)  # 对每帧特征取均值\n",
    "    return mfcc"
   ]
  },
  {
   "cell_type": "code",
   "execution_count": 9,
   "id": "46212c01-6f48-431f-b54b-4a338c43d38d",
   "metadata": {},
   "outputs": [],
   "source": [
    "import librosa.display\n",
    "import matplotlib.pyplot as plt\n",
    "\n",
    "# 提取Mel Spectrogram\n",
    "def extract_melspectrogram(file_path, sr=16000):\n",
    "    y, sr = librosa.load(file_path, sr=sr)\n",
    "    mel_spec = librosa.feature.melspectrogram(y=y, sr=sr)\n",
    "    mel_spec_db = librosa.power_to_db(mel_spec, ref=np.max)\n",
    "    return np.mean(mel_spec_db, axis=1)\n",
    "\n",
    "# 提取其他音频特征\n",
    "def extract_zero_crossing_rate(file_path, sr=16000):\n",
    "    y, sr = librosa.load(file_path, sr=sr)\n",
    "    zcr = librosa.feature.zero_crossing_rate(y)\n",
    "    return np.mean(zcr, axis=1)"
   ]
  },
  {
   "cell_type": "code",
   "execution_count": 10,
   "id": "b80eefaf-92e1-48f9-8881-1580f81eff18",
   "metadata": {},
   "outputs": [
    {
     "name": "stdout",
     "output_type": "stream",
     "text": [
      "            0          1         2          3         4          5         6  \\\n",
      "0 -726.217224  68.541420  3.293398  12.205300  5.510278  13.667408 -2.983829   \n",
      "1 -719.128296  70.201569  1.168397  13.122543  7.836950  14.411290 -4.111360   \n",
      "2 -714.995728  69.689346  3.924564  11.924190  6.421723  11.011614 -2.878103   \n",
      "3 -710.975281  67.564880  5.782241  13.230727  6.190846  12.628252 -1.675170   \n",
      "4 -759.921753  75.783524  6.023605  14.557394  6.454188  14.631508 -3.004551   \n",
      "\n",
      "          7         8         9  ...        133        134        135  \\\n",
      "0  3.098029 -3.310813 -1.564384  ... -70.021904 -70.534943 -70.842972   \n",
      "1  4.468973 -3.539367 -3.658607  ... -70.528221 -70.722054 -71.297203   \n",
      "2  4.509558 -4.476109 -2.671550  ... -71.734444 -72.157852 -72.784225   \n",
      "3  5.657494 -4.950634 -3.477545  ... -72.009544 -72.612411 -72.917633   \n",
      "4  4.620970 -5.200016 -0.707430  ... -71.322784 -71.591965 -71.400848   \n",
      "\n",
      "         136        137        138        139        140       141  Emotion  \n",
      "0 -70.977310 -71.064781 -71.367744 -73.715591 -77.534943  0.388470  neutral  \n",
      "1 -71.255547 -71.209312 -71.482559 -73.803810 -77.608902  0.393392  neutral  \n",
      "2 -72.776413 -72.470299 -72.526619 -74.556259 -77.962730  0.411479  neutral  \n",
      "3 -72.554543 -72.337517 -72.396400 -73.592293 -77.174706  0.400679  neutral  \n",
      "4 -71.998650 -71.831451 -71.947922 -73.780930 -77.211327  0.376575  neutral  \n",
      "\n",
      "[5 rows x 143 columns]\n",
      "111\n"
     ]
    }
   ],
   "source": [
    "mfcc_features = []\n",
    "\n",
    "# 处理所有音频文件并提取 MFCC 特征\n",
    "mfcc_features = []\n",
    "for file in files:\n",
    "    mfcc = extract_mfcc(file)  # file 已经是完整的路径\n",
    "    mel_spec = extract_melspectrogram(file)\n",
    "    zcr = extract_zero_crossing_rate(file)\n",
    "    \n",
    "    feature_vector = np.concatenate((mfcc, mel_spec, zcr))\n",
    "    mfcc_features.append(feature_vector)\n",
    "\n",
    "# 转换为 DataFrame\n",
    "mfcc_df = pd.DataFrame(mfcc_features)\n",
    "\n",
    "# 假设情感标签与音频文件的顺序一致，或者你需要通过文件名或其他方式映射标签\n",
    "mfcc_df[\"Emotion\"] = df[\"Emotion\"]  # 你可以根据实际的标签存储方式调整\n",
    "\n",
    "# 打印提取的特征\n",
    "print(mfcc_df.head())  # 查看前几行特征\n",
    "print('111')"
   ]
  },
  {
   "cell_type": "markdown",
   "id": "462e97d2-efbb-4549-83bf-6c15659864f4",
   "metadata": {},
   "source": [
    "## 0.6203703703703703 version"
   ]
  },
  {
   "cell_type": "code",
   "execution_count": 36,
   "id": "668ae0b1-82a2-4ad2-8c21-74792a390d50",
   "metadata": {},
   "outputs": [],
   "source": [
    "\n",
    "# ✅ 标准化之后划分训练集和测试集\n",
    "X_train, X_test, y_train, y_test = train_test_split(X_scaled, y, test_size=0.3, random_state=42)\n",
    "\n",
    "# ✅ 在训练集上 fit PCA，然后 transform 测试集\n",
    "from sklearn.decomposition import PCA\n",
    "pca = PCA(n_components=0.95)\n",
    "X_pca_train = pca.fit_transform(X_train)\n",
    "X_pca_test = pca.transform(X_test)\n"
   ]
  },
  {
   "cell_type": "code",
   "execution_count": 37,
   "id": "ad85cc82-90a2-4f61-b90c-c59ee75fbf95",
   "metadata": {},
   "outputs": [],
   "source": [
    "\n",
    "# ✅ 定义最终的 SVM 模型\n",
    "from sklearn.svm import SVC\n",
    "\n",
    "best_params = {'C': 100, 'kernel': 'rbf'}\n",
    "model = SVC(**best_params, probability=True)\n"
   ]
  },
  {
   "cell_type": "code",
   "execution_count": 38,
   "id": "91af22fa-13b2-4930-af20-cb01d458b1d0",
   "metadata": {},
   "outputs": [
    {
     "name": "stdout",
     "output_type": "stream",
     "text": [
      "Train Accuracy: 1.0\n"
     ]
    }
   ],
   "source": [
    "\n",
    "# ✅ 定义并训练最终模型\n",
    "from sklearn.svm import SVC\n",
    "\n",
    "best_params = {'C': 100, 'kernel': 'rbf'}\n",
    "model = SVC(**best_params, probability=True)\n",
    "model.fit(X_pca_train, y_train)\n",
    "\n",
    "# ✅ 使用训练集评估准确率（注意特征必须匹配）\n",
    "y_train_pred = model.predict(X_pca_train)\n",
    "print(f\"Train Accuracy: {accuracy_score(y_train, y_train_pred)}\")\n"
   ]
  },
  {
   "cell_type": "code",
   "execution_count": 40,
   "id": "0b06d978-5a2c-435a-9000-7e522adbc16f",
   "metadata": {},
   "outputs": [
    {
     "name": "stdout",
     "output_type": "stream",
     "text": [
      "✅ 模型、Scaler 和 PCA 已成功保存\n"
     ]
    }
   ],
   "source": [
    "\n",
    "# ✅ 保存 SVM 模型、Scaler 和 PCA\n",
    "import joblib\n",
    "\n",
    "joblib.dump(model, 'models/svm_model.pkl')\n",
    "joblib.dump(scaler, 'models/scaler.pkl')\n",
    "joblib.dump(pca, 'models/pca.pkl')\n",
    "print(\"✅ 模型、Scaler 和 PCA 已成功保存\")\n"
   ]
  }
 ],
 "metadata": {
  "kernelspec": {
   "display_name": "Python 3 (ipykernel)",
   "language": "python",
   "name": "python3"
  },
  "language_info": {
   "codemirror_mode": {
    "name": "ipython",
    "version": 3
   },
   "file_extension": ".py",
   "mimetype": "text/x-python",
   "name": "python",
   "nbconvert_exporter": "python",
   "pygments_lexer": "ipython3",
   "version": "3.8.12"
  }
 },
 "nbformat": 4,
 "nbformat_minor": 5
}
